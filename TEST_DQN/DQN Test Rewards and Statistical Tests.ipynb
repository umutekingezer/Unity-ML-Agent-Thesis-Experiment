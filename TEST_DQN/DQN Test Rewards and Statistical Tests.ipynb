{
 "cells": [
  {
   "cell_type": "code",
   "execution_count": 1,
   "id": "547218ea",
   "metadata": {},
   "outputs": [],
   "source": [
    "import pandas as pd\n",
    "import numpy as np\n",
    "import matplotlib.pyplot as plt\n",
    "%matplotlib inline\n",
    "import seaborn as sns"
   ]
  },
  {
   "cell_type": "code",
   "execution_count": 2,
   "id": "6b0c42d3",
   "metadata": {},
   "outputs": [],
   "source": [
    "#Read data from 1.DEFAULT ELEVATOR TEST for each seed:\n",
    "d_0_0=pd.read_csv('Test_1_Seed_0door:0.csv')\n",
    "d_0_1=pd.read_csv('Test_1_Seed_1door:0.csv')\n",
    "d_0_2=pd.read_csv('Test_1_Seed_2door:0.csv')\n",
    "d_0_3=pd.read_csv('Test_1_Seed_3door:0.csv')\n",
    "d_0_4=pd.read_csv('Test_1_Seed_4door:0.csv')\n",
    "\n",
    "\n",
    "d_1_scores=pd.concat([d_0_0,d_0_1,d_0_2,d_0_3,d_0_4])\n",
    "d_1=d_1_scores.drop(columns=['Unnamed: 0', 'Mean_Scores','MeanCompleted_Steps'])\n",
    "d_1[\"Type\"]=\"Default Elevator\"\n",
    "d_1[\"Test_Number\"]=\"1\"\n",
    "\n",
    "#Read data from 1.ALTERNATIVE ELEVATOR TEST for each seed:\n",
    "a_0_0=pd.read_csv('Test_1_Seed_0door:1.csv')\n",
    "a_0_1=pd.read_csv('Test_1_Seed_1door:1.csv')\n",
    "a_0_2=pd.read_csv('Test_1_Seed_2door:1.csv')\n",
    "a_0_3=pd.read_csv('Test_1_Seed_3door:1.csv')\n",
    "a_0_4=pd.read_csv('Test_1_Seed_4door:1.csv')\n",
    "\n",
    "\n",
    "a_1_scores=pd.concat([a_0_0,a_0_1,a_0_2,a_0_3,a_0_4])\n",
    "a_1=a_1_scores.drop(columns=['Unnamed: 0', 'Mean_Scores','MeanCompleted_Steps'])\n",
    "a_1[\"Type\"]=\"Alternative Elevator\"\n",
    "a_1[\"Test_Number\"]=\"1\"\n",
    "\n",
    "#Read data from 2.DEFAULT ELEVATOR TEST for each seed:\n",
    "d_2_0=pd.read_csv('Test_2_Seed_0door:0.csv')\n",
    "d_2_1=pd.read_csv('Test_2_Seed_1door:0.csv')\n",
    "d_2_2=pd.read_csv('Test_2_Seed_2door:0.csv')\n",
    "d_2_3=pd.read_csv('Test_2_Seed_3door:0.csv')\n",
    "d_2_4=pd.read_csv('Test_2_Seed_4door:0.csv')\n",
    "\n",
    "d_2_scores=pd.concat([d_2_0,d_2_1,d_2_2,d_2_3,d_2_4])\n",
    "d_2=d_2_scores.drop(columns=['Unnamed: 0', 'Mean_Scores','MeanCompleted_Steps'])\n",
    "d_2[\"Type\"]=\"Default Elevator\"\n",
    "d_2[\"Test_Number\"]=\"2\"\n",
    "\n",
    "#Read data from 2.ALTERNATIVE ELEVATOR TEST for each seed:\n",
    "a_2_0=pd.read_csv('Test_2_Seed_0door:1.csv')\n",
    "a_2_1=pd.read_csv('Test_2_Seed_1door:1.csv')\n",
    "a_2_2=pd.read_csv('Test_2_Seed_2door:1.csv')\n",
    "a_2_3=pd.read_csv('Test_2_Seed_3door:1.csv')\n",
    "a_2_4=pd.read_csv('Test_2_Seed_4door:1.csv')\n",
    "\n",
    "a_2_scores=pd.concat([a_2_0,a_2_1,a_2_2,a_2_3,a_2_4])\n",
    "a_2=a_2_scores.drop(columns=['Unnamed: 0', 'Mean_Scores','MeanCompleted_Steps'])\n",
    "a_2[\"Type\"]=\"Alternative Elevator\"\n",
    "a_2[\"Test_Number\"]=\"2\"\n",
    "\n",
    "#Read data from 3.DEFAULT ELEVATOR TEST for each seed:\n",
    "d_3_0=pd.read_csv('Test_3_Seed_0door:0.csv')\n",
    "d_3_1=pd.read_csv('Test_3_Seed_1door:0.csv')\n",
    "d_3_2=pd.read_csv('Test_3_Seed_2door:0.csv')\n",
    "d_3_3=pd.read_csv('Test_3_Seed_3door:0.csv')\n",
    "d_3_4=pd.read_csv('Test_3_Seed_4door:0.csv')\n",
    "\n",
    "d_3_scores=pd.concat([d_3_0,d_3_1,d_3_2,d_3_3,d_3_4])\n",
    "d_3=d_3_scores.drop(columns=['Unnamed: 0', 'Mean_Scores','MeanCompleted_Steps'])\n",
    "d_3[\"Type\"]=\"Default Elevator\"\n",
    "d_3[\"Test_Number\"]=\"3\"\n",
    "\n",
    "#Read data from 3.ALTERNATIVE ELEVATOR TEST for each seed:\n",
    "a_3_0=pd.read_csv('Test_3_Seed_0door:1.csv')\n",
    "a_3_1=pd.read_csv('Test_3_Seed_1door:1.csv')\n",
    "a_3_2=pd.read_csv('Test_3_Seed_2door:1.csv')\n",
    "a_3_3=pd.read_csv('Test_3_Seed_3door:1.csv')\n",
    "a_3_4=pd.read_csv('Test_3_Seed_4door:1.csv')\n",
    "\n",
    "a_3_scores=pd.concat([a_3_0,a_3_1,a_3_2,a_3_3,a_3_4])\n",
    "a_3=a_3_scores.drop(columns=['Unnamed: 0', 'Mean_Scores','MeanCompleted_Steps'])\n",
    "a_3[\"Type\"]=\"Alternative Elevator\"\n",
    "a_3[\"Test_Number\"]=\"3\"\n",
    "\n",
    "\n",
    "#Read data from 4.DEFAULT ELEVATOR TEST for each seed:\n",
    "d_4_0=pd.read_csv('Test_4_Seed_0door:0.csv')\n",
    "d_4_1=pd.read_csv('Test_4_Seed_1door:0.csv')\n",
    "d_4_2=pd.read_csv('Test_4_Seed_2door:0.csv')\n",
    "d_4_3=pd.read_csv('Test_4_Seed_3door:0.csv')\n",
    "d_4_4=pd.read_csv('Test_4_Seed_4door:0.csv')\n",
    "\n",
    "d_4_scores=pd.concat([d_4_0,d_4_1,d_4_2,d_4_3,d_4_4])\n",
    "\n",
    "d_4=d_4_scores.drop(columns=['Unnamed: 0', 'Mean_Scores','MeanCompleted_Steps'])\n",
    "d_4[\"Type\"]=\"Default Elevator\"\n",
    "d_4[\"Test_Number\"]=\"4\"\n",
    "\n",
    "#Read data from 4.ALTERNATIVE ELEVATOR TEST for each seed:\n",
    "a_4_0=pd.read_csv('Test_4_Seed_0door:1.csv')\n",
    "a_4_1=pd.read_csv('Test_4_Seed_1door:1.csv')\n",
    "a_4_2=pd.read_csv('Test_4_Seed_2door:1.csv')\n",
    "a_4_3=pd.read_csv('Test_4_Seed_3door:1.csv')\n",
    "a_4_4=pd.read_csv('Test_4_Seed_4door:1.csv')\n",
    "\n",
    "a_4_scores=pd.concat([a_4_0,a_4_1,a_4_2,a_4_3,a_4_4])\n",
    "a_4=a_4_scores.drop(columns=['Unnamed: 0', 'Mean_Scores','MeanCompleted_Steps'])\n",
    "a_4[\"Type\"]=\"Alternative Elevator\"\n",
    "a_4[\"Test_Number\"]=\"4\"\n",
    "\n",
    "\n",
    "#Read data from 5.DEFAULT ELEVATOR TEST for each seed:\n",
    "d_5_0=pd.read_csv('Test_5_Seed_0door:0.csv')\n",
    "d_5_1=pd.read_csv('Test_5_Seed_1door:0.csv')\n",
    "d_5_2=pd.read_csv('Test_5_Seed_2door:0.csv')\n",
    "d_5_3=pd.read_csv('Test_5_Seed_3door:0.csv')\n",
    "d_5_4=pd.read_csv('Test_5_Seed_4door:0.csv')\n",
    "\n",
    "d_5_scores=pd.concat([d_5_0,d_5_1,d_5_2,d_5_3,d_5_4])\n",
    "d_5=d_5_scores.drop(columns=['Unnamed: 0', 'Mean_Scores','MeanCompleted_Steps'])\n",
    "d_5[\"Type\"]=\"Default Elevator\"\n",
    "d_5[\"Test_Number\"]=\"5\"\n",
    "\n",
    "#Read data from 5.ALTERNATIVE ELEVATOR TEST for each seed:\n",
    "a_5_0=pd.read_csv('Test_5_Seed_0door:1.csv')\n",
    "a_5_1=pd.read_csv('Test_5_Seed_1door:1.csv')\n",
    "a_5_2=pd.read_csv('Test_5_Seed_2door:1.csv')\n",
    "a_5_3=pd.read_csv('Test_5_Seed_3door:1.csv')\n",
    "a_5_4=pd.read_csv('Test_5_Seed_4door:1.csv')\n",
    "\n",
    "a_5_scores=pd.concat([a_5_0,a_5_1,a_5_2,a_5_3,a_5_4])\n",
    "a_5=a_5_scores.drop(columns=['Unnamed: 0', 'Mean_Scores','MeanCompleted_Steps'])\n",
    "a_5[\"Type\"]=\"Alternative Elevator\"\n",
    "a_5[\"Test_Number\"]=\"5\"\n",
    "\n",
    "\n",
    "\n",
    "\n"
   ]
  },
  {
   "cell_type": "code",
   "execution_count": 3,
   "id": "a47fab86",
   "metadata": {},
   "outputs": [
    {
     "ename": "NameError",
     "evalue": "name 'df' is not defined",
     "output_type": "error",
     "traceback": [
      "\u001b[0;31m---------------------------------------------------------------------------\u001b[0m",
      "\u001b[0;31mNameError\u001b[0m                                 Traceback (most recent call last)",
      "\u001b[0;32m<ipython-input-3-00cf07b74dcd>\u001b[0m in \u001b[0;36m<module>\u001b[0;34m\u001b[0m\n\u001b[0;32m----> 1\u001b[0;31m \u001b[0mdf\u001b[0m\u001b[0;34m\u001b[0m\u001b[0m\n\u001b[0m",
      "\u001b[0;31mNameError\u001b[0m: name 'df' is not defined"
     ]
    }
   ],
   "source": [
    "df"
   ]
  },
  {
   "cell_type": "code",
   "execution_count": 4,
   "id": "187521f1",
   "metadata": {},
   "outputs": [
    {
     "ename": "NameError",
     "evalue": "name 'df' is not defined",
     "output_type": "error",
     "traceback": [
      "\u001b[0;31m---------------------------------------------------------------------------\u001b[0m",
      "\u001b[0;31mNameError\u001b[0m                                 Traceback (most recent call last)",
      "\u001b[0;32m<ipython-input-4-ec032746d48f>\u001b[0m in \u001b[0;36m<module>\u001b[0;34m\u001b[0m\n\u001b[1;32m      1\u001b[0m \u001b[0mdf_dqn\u001b[0m\u001b[0;34m=\u001b[0m\u001b[0mpd\u001b[0m\u001b[0;34m.\u001b[0m\u001b[0mconcat\u001b[0m\u001b[0;34m(\u001b[0m\u001b[0;34m[\u001b[0m\u001b[0md_1\u001b[0m\u001b[0;34m,\u001b[0m\u001b[0ma_1\u001b[0m\u001b[0;34m,\u001b[0m\u001b[0md_2\u001b[0m\u001b[0;34m,\u001b[0m\u001b[0ma_2\u001b[0m\u001b[0;34m,\u001b[0m\u001b[0md_3\u001b[0m\u001b[0;34m,\u001b[0m\u001b[0ma_3\u001b[0m\u001b[0;34m,\u001b[0m\u001b[0md_4\u001b[0m\u001b[0;34m,\u001b[0m\u001b[0ma_4\u001b[0m\u001b[0;34m,\u001b[0m\u001b[0md_5\u001b[0m\u001b[0;34m,\u001b[0m\u001b[0ma_5\u001b[0m\u001b[0;34m]\u001b[0m\u001b[0;34m,\u001b[0m\u001b[0mignore_index\u001b[0m\u001b[0;34m=\u001b[0m\u001b[0;32mTrue\u001b[0m\u001b[0;34m)\u001b[0m\u001b[0;34m\u001b[0m\u001b[0m\n\u001b[0;32m----> 2\u001b[0;31m \u001b[0mdf\u001b[0m\u001b[0;34m[\u001b[0m\u001b[0;34m\"Algorithm\"\u001b[0m\u001b[0;34m]\u001b[0m\u001b[0;34m=\u001b[0m\u001b[0;34m\"DQN\"\u001b[0m\u001b[0;34m\u001b[0m\u001b[0m\n\u001b[0m",
      "\u001b[0;31mNameError\u001b[0m: name 'df' is not defined"
     ]
    }
   ],
   "source": [
    "df_dqn=pd.concat([d_1,a_1,d_2,a_2,d_3,a_3,d_4,a_4,d_5,a_5],ignore_index=True)\n",
    "df[\"Algorithm\"]=\"DQN\""
   ]
  },
  {
   "cell_type": "code",
   "execution_count": 5,
   "id": "26417a90",
   "metadata": {},
   "outputs": [],
   "source": [
    "df_dqn_test=pd.concat([d_1,a_2,d_3,a_4,d_5],ignore_index=True)\n",
    "df_dqn_test[\"Algorithm\"]=\"DQN\"\n",
    "df_dqn_anomaly=pd.concat([a_1,d_2,a_3,d_4,a_5],ignore_index=True)\n",
    "df_dqn_anomaly[\"Algorithm\"]=\"DQN\""
   ]
  },
  {
   "cell_type": "markdown",
   "id": "e24fe716",
   "metadata": {},
   "source": [
    "# Read SR Data"
   ]
  },
  {
   "cell_type": "code",
   "execution_count": 6,
   "id": "d5095fa3",
   "metadata": {},
   "outputs": [],
   "source": [
    "df_sr=pd.read_csv('SR_reward_data.csv')\n",
    "df_sr_test=pd.read_csv('SRtest_reward_data.csv')\n",
    "df_sr_anomaly=pd.read_csv('SRanomaly_reward_data.csv')"
   ]
  },
  {
   "cell_type": "markdown",
   "id": "ffafdac4",
   "metadata": {},
   "source": [
    "# Concat SR and DQN"
   ]
  },
  {
   "cell_type": "code",
   "execution_count": 7,
   "id": "39c6bf40",
   "metadata": {},
   "outputs": [],
   "source": [
    "df=pd.concat([df_dqn,df_sr],ignore_index=True)\n",
    "df_test=pd.concat([df_dqn_test,df_sr_test],ignore_index=True)\n",
    "df_anomaly=pd.concat([df_dqn_anomaly,df_sr_anomaly],ignore_index=True)\n",
    "\n",
    "df['Test_Number'] = df['Test_Number'].astype(int)\n",
    "df_test['Test_Number'] = df_test['Test_Number'].astype(int)\n",
    "df_anomaly['Test_Number'] = df_anomaly['Test_Number'].astype(int)"
   ]
  },
  {
   "cell_type": "markdown",
   "id": "73f8db59",
   "metadata": {},
   "source": [
    "# Barplot for Scores:"
   ]
  },
  {
   "cell_type": "code",
   "execution_count": 37,
   "id": "cdd04828",
   "metadata": {
    "scrolled": false
   },
   "outputs": [
    {
     "data": {
      "image/png": "[encoded data removed]",
      "text/plain": [
       "<Figure size 1440x576 with 1 Axes>"
      ]
     },
     "metadata": {},
     "output_type": "display_data"
    }
   ],
   "source": [
    "sns.set(style='whitegrid')\n",
    "plt.figure(figsize=(20, 8))\n",
    "sns.barplot(data=df_test, x=\"Test_Number\",y=\"Scores\",hue=\"Algorithm\",dodge=True,saturation=0.9,ci=\"sd\")\n",
    "plt.title('Mean Scores of the Test on Trained Elevator Doors (DQN & SR)', fontsize=30)\n",
    "#add axis titles\n",
    "plt.ylabel('Mean Score',size=20)\n",
    "plt.xlabel('')\n",
    "plt.ylim(0, 15)\n",
    "#rotate x-axis labels\n",
    "x_ticks=[-0.3,0.7,1.7,2.7,3.7]\n",
    "x_labels=[\"1.Test: Common Elevator\",\"2.Test: Uncommon Elevator\",\"3.Test: Common Elevator\",\"4.Test: Uncommon Elevator\",\"5.Test: Common Elevator\"]\n",
    "y_ticks=[0,1,2,3,4,5,6,7,8,9,10,11,12,13,14,15,16,17,18]\n",
    "plt.legend(loc=\"upper right\",fontsize=30)\n",
    "plt.xticks(ticks=x_ticks,labels=x_labels, horizontalalignment='left',fontweight='bold',fontsize=16)\n",
    "plt.yticks(ticks=y_ticks,labels=y_ticks,fontsize=18)\n",
    "plt.savefig(\"TestScores.png\",bbox_inches='tight')\n",
    "\n",
    "\n",
    "\n"
   ]
  },
  {
   "cell_type": "code",
   "execution_count": 36,
   "id": "eb8fa965",
   "metadata": {},
   "outputs": [
    {
     "data": {
      "image/png": "[encoded data removed]",
      "text/plain": [
       "<Figure size 1440x576 with 1 Axes>"
      ]
     },
     "metadata": {},
     "output_type": "display_data"
    }
   ],
   "source": [
    "\n",
    "\n",
    "sns.set(style='whitegrid')\n",
    "plt.figure(figsize=(20, 8))\n",
    "\n",
    "plt.title('Mean Scores of the Test on Not-Trained Elevator Doors (DQN & SR)', fontsize=30)\n",
    "sns.barplot(data=df_anomaly, x=\"Test_Number\",y=\"Scores\",hue=\"Algorithm\",dodge=True,saturation=0.9,palette=[\"g\",\"r\"],ci=\"sd\")\n",
    "#add axis titles\n",
    "plt.ylabel('Mean Score',size=20)\n",
    "plt.xlabel('')\n",
    "plt.ylim(-4,6)\n",
    "#TODO:\n",
    "#rotate x-axis labels\n",
    "x_ticks=[-0.3,0.7,1.7,2.7,3.7]\n",
    "y_ticks=[-4,-3,-2,-1,0,1,2,3,4,5,6]\n",
    "x_labels=[\"1.Test: Uncommon Elevator\",\"2.Test: Common Elevator\",\"3.Test: Uncommon Elevator\",\"4.Test: Common Elevator\",\"5.Test: Uncommon Elevator\"]\n",
    "plt.legend(loc=\"upper right\",fontsize=30)\n",
    "plt.xticks(ticks=x_ticks,labels=x_labels, horizontalalignment='left',fontweight='bold',fontsize=16)\n",
    "plt.yticks(ticks=y_ticks,labels=y_ticks,fontsize=18)\n",
    "plt.savefig(\"TestAnomalyScores.png\",bbox_inches='tight')\n",
    "\n"
   ]
  },
  {
   "cell_type": "markdown",
   "id": "7415b56e",
   "metadata": {},
   "source": [
    "# Barplot for Steps:"
   ]
  },
  {
   "cell_type": "code",
   "execution_count": 140,
   "id": "7eadaac5",
   "metadata": {},
   "outputs": [
    {
     "data": {
      "image/png": "[encoded data removed]",
      "text/plain": [
       "<Figure size 1440x576 with 1 Axes>"
      ]
     },
     "metadata": {},
     "output_type": "display_data"
    }
   ],
   "source": [
    "sns.set(style='whitegrid')\n",
    "plt.figure(figsize=(20, 8))\n",
    "sns.barplot(data=df_test, x=\"Test_Number\",y=\"Completed_Steps\",hue=\"Algorithm\",dodge=True,saturation=0.9)\n",
    "plt.title('Test Steps (DQN & SR)', fontsize=20)\n",
    "#add axis titles\n",
    "plt.ylabel('Mean Steps',size=15)\n",
    "plt.ylim(0, 500)\n",
    "plt.xlabel('')\n",
    "#rotate x-axis labels\n",
    "x_ticks=[-0.3,0.7,1.7,2.7,3.7]\n",
    "x_labels=[\"1.Test: Default Elevator\",\"2.Test: Alternative Elevator\",\"3.Test: Default Elevator\",\"4.Test: Alternative Elevator\",\"5.Test: Default Elevator\"]\n",
    "\n",
    "plt.xticks(ticks=x_ticks,labels=x_labels, horizontalalignment='left',fontweight='bold')\n",
    "plt.savefig(\"TestSteps\",dpi=300)\n"
   ]
  },
  {
   "cell_type": "code",
   "execution_count": 153,
   "id": "78fc9e55",
   "metadata": {},
   "outputs": [
    {
     "data": {
      "image/png": "[encoded data removed]",
      "text/plain": [
       "<Figure size 1440x576 with 1 Axes>"
      ]
     },
     "metadata": {},
     "output_type": "display_data"
    }
   ],
   "source": [
    "sns.set(style='whitegrid')\n",
    "plt.figure(figsize=(20, 8))\n",
    "\n",
    "plt.title('Anomaly Test Steps(DQN & SR)', fontsize=20)\n",
    "sns.barplot(data=df_anomaly, x=\"Test_Number\",y=\"Completed_Steps\",hue=\"Algorithm\",dodge=True,saturation=0.9,palette=[\"g\",\"r\"])\n",
    "#add axis titles\n",
    "plt.ylabel('Mean Scores',size=12)\n",
    "plt.xlabel('')\n",
    "plt.ylim(0, 500)\n",
    "#rotate x-axis labels\n",
    "x_ticks=[-0.3,0.7,1.7,2.7,3.7]\n",
    "x_labels=[\"1.Test: Alternative Elevator\",\"2.Test: Default Elevator\",\"3.Test: Alternative Elevator\",\"4.Test: Default Elevator\",\"5.Test: Alternative Elevator\"]\n",
    "\n",
    "plt.xticks(ticks=x_ticks,labels=x_labels, horizontalalignment='left',fontweight='bold')\n",
    "plt.savefig(\"TestAnomalySteps\",dpi=300)\n",
    "\n",
    "\n"
   ]
  },
  {
   "cell_type": "code",
   "execution_count": 99,
   "id": "90049df1",
   "metadata": {},
   "outputs": [],
   "source": [
    "#Read data from 1.DEFAULT ELEVATOR TEST for each seed:\n",
    "d_0_0=pd.read_csv('Test_1_Seed_0door:0.csv')\n",
    "d_0_1=pd.read_csv('Test_1_Seed_1door:0.csv')\n",
    "d_0_2=pd.read_csv('Test_1_Seed_2door:0.csv')\n",
    "d_0_3=pd.read_csv('Test_1_Seed_3door:0.csv')\n",
    "d_0_4=pd.read_csv('Test_1_Seed_4door:0.csv')\n",
    "\n",
    "\n",
    "\n",
    "d_1_scores=pd.concat([d_0_0,d_0_1,d_0_2,d_0_3,d_0_4])\n",
    "d_1=d_1_scores.drop(columns=['Unnamed: 0', 'Mean_Scores','MeanCompleted_Steps'])\n",
    "d_1[\"Type\"]=\"Default Elevator\"\n",
    "d_1[\"Test_Number\"]=\"1\""
   ]
  },
  {
   "cell_type": "code",
   "execution_count": 101,
   "id": "44ce7282",
   "metadata": {},
   "outputs": [
    {
     "data": {
      "text/html": [
       "<div>\n",
       "<style scoped>\n",
       "    .dataframe tbody tr th:only-of-type {\n",
       "        vertical-align: middle;\n",
       "    }\n",
       "\n",
       "    .dataframe tbody tr th {\n",
       "        vertical-align: top;\n",
       "    }\n",
       "\n",
       "    .dataframe thead th {\n",
       "        text-align: right;\n",
       "    }\n",
       "</style>\n",
       "<table border=\"1\" class=\"dataframe\">\n",
       "  <thead>\n",
       "    <tr style=\"text-align: right;\">\n",
       "      <th></th>\n",
       "      <th>Scores</th>\n",
       "      <th>Completed_Steps</th>\n",
       "      <th>Type</th>\n",
       "      <th>Test_Number</th>\n",
       "    </tr>\n",
       "  </thead>\n",
       "  <tbody>\n",
       "    <tr>\n",
       "      <th>0</th>\n",
       "      <td>9.956201</td>\n",
       "      <td>21</td>\n",
       "      <td>Default Elevator</td>\n",
       "      <td>1</td>\n",
       "    </tr>\n",
       "    <tr>\n",
       "      <th>1</th>\n",
       "      <td>9.956201</td>\n",
       "      <td>21</td>\n",
       "      <td>Default Elevator</td>\n",
       "      <td>1</td>\n",
       "    </tr>\n",
       "    <tr>\n",
       "      <th>2</th>\n",
       "      <td>9.956201</td>\n",
       "      <td>21</td>\n",
       "      <td>Default Elevator</td>\n",
       "      <td>1</td>\n",
       "    </tr>\n",
       "    <tr>\n",
       "      <th>3</th>\n",
       "      <td>9.956201</td>\n",
       "      <td>21</td>\n",
       "      <td>Default Elevator</td>\n",
       "      <td>1</td>\n",
       "    </tr>\n",
       "    <tr>\n",
       "      <th>4</th>\n",
       "      <td>9.956201</td>\n",
       "      <td>21</td>\n",
       "      <td>Default Elevator</td>\n",
       "      <td>1</td>\n",
       "    </tr>\n",
       "    <tr>\n",
       "      <th>5</th>\n",
       "      <td>9.956201</td>\n",
       "      <td>21</td>\n",
       "      <td>Default Elevator</td>\n",
       "      <td>1</td>\n",
       "    </tr>\n",
       "    <tr>\n",
       "      <th>6</th>\n",
       "      <td>9.956201</td>\n",
       "      <td>21</td>\n",
       "      <td>Default Elevator</td>\n",
       "      <td>1</td>\n",
       "    </tr>\n",
       "    <tr>\n",
       "      <th>7</th>\n",
       "      <td>9.956201</td>\n",
       "      <td>21</td>\n",
       "      <td>Default Elevator</td>\n",
       "      <td>1</td>\n",
       "    </tr>\n",
       "    <tr>\n",
       "      <th>8</th>\n",
       "      <td>9.956201</td>\n",
       "      <td>21</td>\n",
       "      <td>Default Elevator</td>\n",
       "      <td>1</td>\n",
       "    </tr>\n",
       "    <tr>\n",
       "      <th>9</th>\n",
       "      <td>9.956201</td>\n",
       "      <td>21</td>\n",
       "      <td>Default Elevator</td>\n",
       "      <td>1</td>\n",
       "    </tr>\n",
       "    <tr>\n",
       "      <th>0</th>\n",
       "      <td>9.954201</td>\n",
       "      <td>22</td>\n",
       "      <td>Default Elevator</td>\n",
       "      <td>1</td>\n",
       "    </tr>\n",
       "    <tr>\n",
       "      <th>1</th>\n",
       "      <td>9.954201</td>\n",
       "      <td>22</td>\n",
       "      <td>Default Elevator</td>\n",
       "      <td>1</td>\n",
       "    </tr>\n",
       "    <tr>\n",
       "      <th>2</th>\n",
       "      <td>9.954201</td>\n",
       "      <td>22</td>\n",
       "      <td>Default Elevator</td>\n",
       "      <td>1</td>\n",
       "    </tr>\n",
       "    <tr>\n",
       "      <th>3</th>\n",
       "      <td>9.954201</td>\n",
       "      <td>22</td>\n",
       "      <td>Default Elevator</td>\n",
       "      <td>1</td>\n",
       "    </tr>\n",
       "    <tr>\n",
       "      <th>4</th>\n",
       "      <td>9.954201</td>\n",
       "      <td>22</td>\n",
       "      <td>Default Elevator</td>\n",
       "      <td>1</td>\n",
       "    </tr>\n",
       "    <tr>\n",
       "      <th>5</th>\n",
       "      <td>9.954201</td>\n",
       "      <td>22</td>\n",
       "      <td>Default Elevator</td>\n",
       "      <td>1</td>\n",
       "    </tr>\n",
       "    <tr>\n",
       "      <th>6</th>\n",
       "      <td>9.954201</td>\n",
       "      <td>22</td>\n",
       "      <td>Default Elevator</td>\n",
       "      <td>1</td>\n",
       "    </tr>\n",
       "    <tr>\n",
       "      <th>7</th>\n",
       "      <td>9.954201</td>\n",
       "      <td>22</td>\n",
       "      <td>Default Elevator</td>\n",
       "      <td>1</td>\n",
       "    </tr>\n",
       "    <tr>\n",
       "      <th>8</th>\n",
       "      <td>9.954201</td>\n",
       "      <td>22</td>\n",
       "      <td>Default Elevator</td>\n",
       "      <td>1</td>\n",
       "    </tr>\n",
       "    <tr>\n",
       "      <th>9</th>\n",
       "      <td>9.954201</td>\n",
       "      <td>22</td>\n",
       "      <td>Default Elevator</td>\n",
       "      <td>1</td>\n",
       "    </tr>\n",
       "    <tr>\n",
       "      <th>0</th>\n",
       "      <td>9.957601</td>\n",
       "      <td>21</td>\n",
       "      <td>Default Elevator</td>\n",
       "      <td>1</td>\n",
       "    </tr>\n",
       "    <tr>\n",
       "      <th>1</th>\n",
       "      <td>9.957601</td>\n",
       "      <td>21</td>\n",
       "      <td>Default Elevator</td>\n",
       "      <td>1</td>\n",
       "    </tr>\n",
       "    <tr>\n",
       "      <th>2</th>\n",
       "      <td>9.957601</td>\n",
       "      <td>21</td>\n",
       "      <td>Default Elevator</td>\n",
       "      <td>1</td>\n",
       "    </tr>\n",
       "    <tr>\n",
       "      <th>3</th>\n",
       "      <td>9.957601</td>\n",
       "      <td>21</td>\n",
       "      <td>Default Elevator</td>\n",
       "      <td>1</td>\n",
       "    </tr>\n",
       "    <tr>\n",
       "      <th>4</th>\n",
       "      <td>9.957601</td>\n",
       "      <td>21</td>\n",
       "      <td>Default Elevator</td>\n",
       "      <td>1</td>\n",
       "    </tr>\n",
       "    <tr>\n",
       "      <th>5</th>\n",
       "      <td>9.957601</td>\n",
       "      <td>21</td>\n",
       "      <td>Default Elevator</td>\n",
       "      <td>1</td>\n",
       "    </tr>\n",
       "    <tr>\n",
       "      <th>6</th>\n",
       "      <td>9.957601</td>\n",
       "      <td>21</td>\n",
       "      <td>Default Elevator</td>\n",
       "      <td>1</td>\n",
       "    </tr>\n",
       "    <tr>\n",
       "      <th>7</th>\n",
       "      <td>9.957601</td>\n",
       "      <td>21</td>\n",
       "      <td>Default Elevator</td>\n",
       "      <td>1</td>\n",
       "    </tr>\n",
       "    <tr>\n",
       "      <th>8</th>\n",
       "      <td>9.957601</td>\n",
       "      <td>21</td>\n",
       "      <td>Default Elevator</td>\n",
       "      <td>1</td>\n",
       "    </tr>\n",
       "    <tr>\n",
       "      <th>9</th>\n",
       "      <td>9.957601</td>\n",
       "      <td>21</td>\n",
       "      <td>Default Elevator</td>\n",
       "      <td>1</td>\n",
       "    </tr>\n",
       "    <tr>\n",
       "      <th>0</th>\n",
       "      <td>9.957800</td>\n",
       "      <td>21</td>\n",
       "      <td>Default Elevator</td>\n",
       "      <td>1</td>\n",
       "    </tr>\n",
       "    <tr>\n",
       "      <th>1</th>\n",
       "      <td>9.957800</td>\n",
       "      <td>21</td>\n",
       "      <td>Default Elevator</td>\n",
       "      <td>1</td>\n",
       "    </tr>\n",
       "    <tr>\n",
       "      <th>2</th>\n",
       "      <td>9.957800</td>\n",
       "      <td>21</td>\n",
       "      <td>Default Elevator</td>\n",
       "      <td>1</td>\n",
       "    </tr>\n",
       "    <tr>\n",
       "      <th>3</th>\n",
       "      <td>9.957800</td>\n",
       "      <td>21</td>\n",
       "      <td>Default Elevator</td>\n",
       "      <td>1</td>\n",
       "    </tr>\n",
       "    <tr>\n",
       "      <th>4</th>\n",
       "      <td>9.957800</td>\n",
       "      <td>21</td>\n",
       "      <td>Default Elevator</td>\n",
       "      <td>1</td>\n",
       "    </tr>\n",
       "    <tr>\n",
       "      <th>5</th>\n",
       "      <td>9.957800</td>\n",
       "      <td>21</td>\n",
       "      <td>Default Elevator</td>\n",
       "      <td>1</td>\n",
       "    </tr>\n",
       "    <tr>\n",
       "      <th>6</th>\n",
       "      <td>9.957800</td>\n",
       "      <td>21</td>\n",
       "      <td>Default Elevator</td>\n",
       "      <td>1</td>\n",
       "    </tr>\n",
       "    <tr>\n",
       "      <th>7</th>\n",
       "      <td>9.957800</td>\n",
       "      <td>21</td>\n",
       "      <td>Default Elevator</td>\n",
       "      <td>1</td>\n",
       "    </tr>\n",
       "    <tr>\n",
       "      <th>8</th>\n",
       "      <td>9.957800</td>\n",
       "      <td>21</td>\n",
       "      <td>Default Elevator</td>\n",
       "      <td>1</td>\n",
       "    </tr>\n",
       "    <tr>\n",
       "      <th>9</th>\n",
       "      <td>9.957800</td>\n",
       "      <td>21</td>\n",
       "      <td>Default Elevator</td>\n",
       "      <td>1</td>\n",
       "    </tr>\n",
       "    <tr>\n",
       "      <th>0</th>\n",
       "      <td>9.946400</td>\n",
       "      <td>26</td>\n",
       "      <td>Default Elevator</td>\n",
       "      <td>1</td>\n",
       "    </tr>\n",
       "    <tr>\n",
       "      <th>1</th>\n",
       "      <td>9.946400</td>\n",
       "      <td>26</td>\n",
       "      <td>Default Elevator</td>\n",
       "      <td>1</td>\n",
       "    </tr>\n",
       "    <tr>\n",
       "      <th>2</th>\n",
       "      <td>9.946400</td>\n",
       "      <td>26</td>\n",
       "      <td>Default Elevator</td>\n",
       "      <td>1</td>\n",
       "    </tr>\n",
       "    <tr>\n",
       "      <th>3</th>\n",
       "      <td>9.946400</td>\n",
       "      <td>26</td>\n",
       "      <td>Default Elevator</td>\n",
       "      <td>1</td>\n",
       "    </tr>\n",
       "    <tr>\n",
       "      <th>4</th>\n",
       "      <td>9.946400</td>\n",
       "      <td>26</td>\n",
       "      <td>Default Elevator</td>\n",
       "      <td>1</td>\n",
       "    </tr>\n",
       "    <tr>\n",
       "      <th>5</th>\n",
       "      <td>9.946400</td>\n",
       "      <td>26</td>\n",
       "      <td>Default Elevator</td>\n",
       "      <td>1</td>\n",
       "    </tr>\n",
       "    <tr>\n",
       "      <th>6</th>\n",
       "      <td>9.946400</td>\n",
       "      <td>26</td>\n",
       "      <td>Default Elevator</td>\n",
       "      <td>1</td>\n",
       "    </tr>\n",
       "    <tr>\n",
       "      <th>7</th>\n",
       "      <td>9.946400</td>\n",
       "      <td>26</td>\n",
       "      <td>Default Elevator</td>\n",
       "      <td>1</td>\n",
       "    </tr>\n",
       "    <tr>\n",
       "      <th>8</th>\n",
       "      <td>9.946400</td>\n",
       "      <td>26</td>\n",
       "      <td>Default Elevator</td>\n",
       "      <td>1</td>\n",
       "    </tr>\n",
       "    <tr>\n",
       "      <th>9</th>\n",
       "      <td>9.946400</td>\n",
       "      <td>26</td>\n",
       "      <td>Default Elevator</td>\n",
       "      <td>1</td>\n",
       "    </tr>\n",
       "  </tbody>\n",
       "</table>\n",
       "</div>"
      ],
      "text/plain": [
       "     Scores  Completed_Steps              Type Test_Number\n",
       "0  9.956201               21  Default Elevator           1\n",
       "1  9.956201               21  Default Elevator           1\n",
       "2  9.956201               21  Default Elevator           1\n",
       "3  9.956201               21  Default Elevator           1\n",
       "4  9.956201               21  Default Elevator           1\n",
       "5  9.956201               21  Default Elevator           1\n",
       "6  9.956201               21  Default Elevator           1\n",
       "7  9.956201               21  Default Elevator           1\n",
       "8  9.956201               21  Default Elevator           1\n",
       "9  9.956201               21  Default Elevator           1\n",
       "0  9.954201               22  Default Elevator           1\n",
       "1  9.954201               22  Default Elevator           1\n",
       "2  9.954201               22  Default Elevator           1\n",
       "3  9.954201               22  Default Elevator           1\n",
       "4  9.954201               22  Default Elevator           1\n",
       "5  9.954201               22  Default Elevator           1\n",
       "6  9.954201               22  Default Elevator           1\n",
       "7  9.954201               22  Default Elevator           1\n",
       "8  9.954201               22  Default Elevator           1\n",
       "9  9.954201               22  Default Elevator           1\n",
       "0  9.957601               21  Default Elevator           1\n",
       "1  9.957601               21  Default Elevator           1\n",
       "2  9.957601               21  Default Elevator           1\n",
       "3  9.957601               21  Default Elevator           1\n",
       "4  9.957601               21  Default Elevator           1\n",
       "5  9.957601               21  Default Elevator           1\n",
       "6  9.957601               21  Default Elevator           1\n",
       "7  9.957601               21  Default Elevator           1\n",
       "8  9.957601               21  Default Elevator           1\n",
       "9  9.957601               21  Default Elevator           1\n",
       "0  9.957800               21  Default Elevator           1\n",
       "1  9.957800               21  Default Elevator           1\n",
       "2  9.957800               21  Default Elevator           1\n",
       "3  9.957800               21  Default Elevator           1\n",
       "4  9.957800               21  Default Elevator           1\n",
       "5  9.957800               21  Default Elevator           1\n",
       "6  9.957800               21  Default Elevator           1\n",
       "7  9.957800               21  Default Elevator           1\n",
       "8  9.957800               21  Default Elevator           1\n",
       "9  9.957800               21  Default Elevator           1\n",
       "0  9.946400               26  Default Elevator           1\n",
       "1  9.946400               26  Default Elevator           1\n",
       "2  9.946400               26  Default Elevator           1\n",
       "3  9.946400               26  Default Elevator           1\n",
       "4  9.946400               26  Default Elevator           1\n",
       "5  9.946400               26  Default Elevator           1\n",
       "6  9.946400               26  Default Elevator           1\n",
       "7  9.946400               26  Default Elevator           1\n",
       "8  9.946400               26  Default Elevator           1\n",
       "9  9.946400               26  Default Elevator           1"
      ]
     },
     "execution_count": 101,
     "metadata": {},
     "output_type": "execute_result"
    }
   ],
   "source": [
    "d_1"
   ]
  },
  {
   "cell_type": "markdown",
   "id": "8bd55976",
   "metadata": {},
   "source": [
    "# Lets Perform Mann-Whitney U rank test between DQN1-SR1"
   ]
  },
  {
   "cell_type": "raw",
   "id": "51a18f55",
   "metadata": {},
   "source": [
    "Perform the Mann-Whitney U rank test on two independent samples.\n",
    "\n",
    "The Mann-Whitney U test is a nonparametric test of the null hypothesis that the distribution underlying sample x is the same as the distribution underlying sample y. It is often used as a test of difference in location between distributions."
   ]
  },
  {
   "cell_type": "code",
   "execution_count": 42,
   "id": "4f113f3e",
   "metadata": {},
   "outputs": [],
   "source": [
    "import pandas as pd\n",
    "from scipy import stats\n",
    "from statsmodels.stats import weightstats as stests\n"
   ]
  },
  {
   "cell_type": "markdown",
   "id": "8a699f04",
   "metadata": {},
   "source": [
    "# General DQN Test on Trained Door and SR Test on Trained Door"
   ]
  },
  {
   "cell_type": "code",
   "execution_count": 43,
   "id": "8aca19f6",
   "metadata": {},
   "outputs": [
    {
     "data": {
      "text/plain": [
       "Scores             float64\n",
       "Completed_Steps      int64\n",
       "Type                object\n",
       "Test_Number         object\n",
       "Algorithm           object\n",
       "dtype: object"
      ]
     },
     "execution_count": 43,
     "metadata": {},
     "output_type": "execute_result"
    }
   ],
   "source": [
    "df_dqn_test.dtypes"
   ]
  },
  {
   "cell_type": "code",
   "execution_count": 44,
   "id": "2945217f",
   "metadata": {},
   "outputs": [
    {
     "data": {
      "text/plain": [
       "0      9.958000\n",
       "1      9.955601\n",
       "2      9.958000\n",
       "3      9.958000\n",
       "4      9.958000\n",
       "         ...   \n",
       "245    9.956400\n",
       "246    9.956400\n",
       "247    9.956400\n",
       "248    9.956400\n",
       "249    9.956400\n",
       "Name: Scores, Length: 250, dtype: float64"
      ]
     },
     "execution_count": 44,
     "metadata": {},
     "output_type": "execute_result"
    }
   ],
   "source": [
    "df_sr_test[\"Scores\"]"
   ]
  },
  {
   "cell_type": "code",
   "execution_count": 45,
   "id": "3d943b41",
   "metadata": {},
   "outputs": [],
   "source": [
    "dqn_test1=df_dqn_test.loc[df_dqn_test['Test_Number'] == '1']\n",
    "dqn_test2=df_dqn_test.loc[df_dqn_test['Test_Number'] == '2']\n",
    "dqn_test3=df_dqn_test.loc[df_dqn_test['Test_Number'] == '3']\n",
    "dqn_test4=df_dqn_test.loc[df_dqn_test['Test_Number'] == '4']\n",
    "dqn_test5=df_dqn_test.loc[df_dqn_test['Test_Number'] == '5']"
   ]
  },
  {
   "cell_type": "code",
   "execution_count": 46,
   "id": "e8f0ba91",
   "metadata": {},
   "outputs": [],
   "source": [
    "sr_test1=df_sr_test.loc[df_sr_test['Test_Number'] == 1]\n",
    "sr_test2=df_sr_test.loc[df_sr_test['Test_Number'] == 2]\n",
    "sr_test3=df_sr_test.loc[df_sr_test['Test_Number'] == 3]\n",
    "sr_test4=df_sr_test.loc[df_sr_test['Test_Number'] == 4]\n",
    "sr_test5=df_sr_test.loc[df_sr_test['Test_Number'] == 5]"
   ]
  },
  {
   "cell_type": "code",
   "execution_count": 47,
   "id": "5b7bda7e",
   "metadata": {},
   "outputs": [
    {
     "name": "stdout",
     "output_type": "stream",
     "text": [
      "-0.002191772460937713 -0.0027558326721202064 1.3775474095344542 -1.438599082231521 -2.6327504396438597\n"
     ]
    }
   ],
   "source": [
    "#Determine value parameter for z-test:\n",
    "value1=np.mean(dqn_test1[\"Scores\"])-np.mean(sr_test1[\"Scores\"])\n",
    "value2=np.mean(dqn_test2[\"Scores\"])-np.mean(sr_test2[\"Scores\"])\n",
    "value3=np.mean(dqn_test3[\"Scores\"])-np.mean(sr_test3[\"Scores\"])\n",
    "value4=np.mean(dqn_test4[\"Scores\"])-np.mean(sr_test4[\"Scores\"])\n",
    "value5=np.mean(dqn_test5[\"Scores\"])-np.mean(sr_test5[\"Scores\"])\n",
    "print(value1,value2,value3,value4,value5)"
   ]
  },
  {
   "cell_type": "code",
   "execution_count": 48,
   "id": "2ebfeee1",
   "metadata": {},
   "outputs": [],
   "source": [
    "from scipy.stats import mannwhitneyu"
   ]
  },
  {
   "cell_type": "code",
   "execution_count": 51,
   "id": "99dc41b4",
   "metadata": {},
   "outputs": [
    {
     "data": {
      "text/plain": [
       "0     9.956201\n",
       "1     9.956201\n",
       "2     9.956201\n",
       "3     9.956201\n",
       "4     9.956201\n",
       "5     9.956201\n",
       "6     9.956201\n",
       "7     9.956201\n",
       "8     9.956201\n",
       "9     9.956201\n",
       "10    9.954201\n",
       "11    9.954201\n",
       "12    9.954201\n",
       "13    9.954201\n",
       "14    9.954201\n",
       "15    9.954201\n",
       "16    9.954201\n",
       "17    9.954201\n",
       "18    9.954201\n",
       "19    9.954201\n",
       "20    9.957601\n",
       "21    9.957601\n",
       "22    9.957601\n",
       "23    9.957601\n",
       "24    9.957601\n",
       "25    9.957601\n",
       "26    9.957601\n",
       "27    9.957601\n",
       "28    9.957601\n",
       "29    9.957601\n",
       "30    9.957800\n",
       "31    9.957800\n",
       "32    9.957800\n",
       "33    9.957800\n",
       "34    9.957800\n",
       "35    9.957800\n",
       "36    9.957800\n",
       "37    9.957800\n",
       "38    9.957800\n",
       "39    9.957800\n",
       "40    9.946400\n",
       "41    9.946400\n",
       "42    9.946400\n",
       "43    9.946400\n",
       "44    9.946400\n",
       "45    9.946400\n",
       "46    9.946400\n",
       "47    9.946400\n",
       "48    9.946400\n",
       "49    9.946400\n",
       "Name: Scores, dtype: float64"
      ]
     },
     "execution_count": 51,
     "metadata": {},
     "output_type": "execute_result"
    }
   ],
   "source": [
    "dqn_test1[\"Scores\"]"
   ]
  },
  {
   "cell_type": "code",
   "execution_count": 52,
   "id": "76717590",
   "metadata": {},
   "outputs": [
    {
     "data": {
      "text/plain": [
       "0     9.958000\n",
       "1     9.955601\n",
       "2     9.958000\n",
       "3     9.958000\n",
       "4     9.958000\n",
       "5     9.958000\n",
       "6     9.958000\n",
       "7     9.958000\n",
       "8     9.958000\n",
       "9     9.955200\n",
       "10    9.930400\n",
       "11    9.959200\n",
       "12    9.959200\n",
       "13    9.959200\n",
       "14    9.953400\n",
       "15    9.959200\n",
       "16    9.959200\n",
       "17    9.956800\n",
       "18    9.959200\n",
       "19    9.959200\n",
       "20    9.954000\n",
       "21    9.954000\n",
       "22    9.954000\n",
       "23    9.954000\n",
       "24    9.954000\n",
       "25    9.954000\n",
       "26    9.954000\n",
       "27    9.950800\n",
       "28    9.954000\n",
       "29    9.952000\n",
       "30    9.959200\n",
       "31    9.959200\n",
       "32    9.959200\n",
       "33    9.959200\n",
       "34    9.959200\n",
       "35    9.959200\n",
       "36    9.959200\n",
       "37    9.959200\n",
       "38    9.959200\n",
       "39    9.959200\n",
       "40    9.957800\n",
       "41    9.957800\n",
       "42    9.957800\n",
       "43    9.957800\n",
       "44    9.954801\n",
       "45    9.957800\n",
       "46    9.957800\n",
       "47    9.957800\n",
       "48    9.957800\n",
       "49    9.957800\n",
       "Name: Scores, dtype: float64"
      ]
     },
     "execution_count": 52,
     "metadata": {},
     "output_type": "execute_result"
    }
   ],
   "source": [
    "sr_test1[\"Scores\"]"
   ]
  },
  {
   "cell_type": "code",
   "execution_count": 54,
   "id": "36083e30",
   "metadata": {},
   "outputs": [
    {
     "name": "stdout",
     "output_type": "stream",
     "text": [
      "1.3195354525687268e-05\n",
      "reject null hypothesis\n"
     ]
    }
   ],
   "source": [
    "#Mann-Whitney U test for test on trained door for Test Number 1:\n",
    "\n",
    "ztest ,pval1 = mannwhitneyu(dqn_test1[\"Scores\"],sr_test1[\"Scores\"])\n",
    "print(float(pval1))\n",
    "\n",
    "\n",
    "if pval1<0.05:\n",
    "    print(\"reject null hypothesis\")\n",
    "else:\n",
    "    print(\"accept null hypothesis\")"
   ]
  },
  {
   "cell_type": "code",
   "execution_count": 55,
   "id": "893255a4",
   "metadata": {},
   "outputs": [
    {
     "name": "stdout",
     "output_type": "stream",
     "text": [
      "0.012442329634022977\n",
      "reject null hypothesis\n"
     ]
    }
   ],
   "source": [
    "#Mann-Whitney U test for test on trained door for Test Number 2:\n",
    "ztest ,pval1 = mannwhitneyu(dqn_test2[\"Scores\"],sr_test2[\"Scores\"])\n",
    "print(float(pval1))\n",
    "if pval1<0.05:\n",
    "    print(\"reject null hypothesis\")\n",
    "else:\n",
    "    print(\"accept null hypothesis\")"
   ]
  },
  {
   "cell_type": "code",
   "execution_count": 56,
   "id": "b10c2948",
   "metadata": {},
   "outputs": [
    {
     "name": "stdout",
     "output_type": "stream",
     "text": [
      "0.0026979673894947827\n",
      "reject null hypothesis\n"
     ]
    }
   ],
   "source": [
    "#Mann-Whitney U test for test on trained door for Test Number 3:\n",
    "ztest ,pval1 = mannwhitneyu(dqn_test3[\"Scores\"], y=sr_test3[\"Scores\"])\n",
    "print(float(pval1))\n",
    "\n",
    "if pval1<0.05:\n",
    "    print(\"reject null hypothesis\")\n",
    "else:\n",
    "    print(\"accept null hypothesis\")"
   ]
  },
  {
   "cell_type": "code",
   "execution_count": 57,
   "id": "0d28f438",
   "metadata": {},
   "outputs": [
    {
     "name": "stdout",
     "output_type": "stream",
     "text": [
      "0.01417613820118965\n",
      "reject null hypothesis\n"
     ]
    }
   ],
   "source": [
    "#Mann-Whitney U test for test on trained door for Test Number 4:\n",
    "ztest ,pval1 = mannwhitneyu(dqn_test4[\"Scores\"], y=sr_test4[\"Scores\"])\n",
    "print(float(pval1))\n",
    "\n",
    "if pval1<0.05:\n",
    "    print(\"reject null hypothesis\")\n",
    "else:\n",
    "    print(\"accept null hypothesis\")"
   ]
  },
  {
   "cell_type": "code",
   "execution_count": 58,
   "id": "bc5f5bda",
   "metadata": {},
   "outputs": [
    {
     "name": "stdout",
     "output_type": "stream",
     "text": [
      "2.4456557869072936e-05\n",
      "reject null hypothesis\n"
     ]
    }
   ],
   "source": [
    "#Mann-Whitney U test for test on trained door for Test Number 5:\n",
    "ztest ,pval1 = mannwhitneyu(dqn_test5[\"Scores\"], y=sr_test5[\"Scores\"])\n",
    "print(float(pval1))\n",
    "\n",
    "if pval1<0.05:\n",
    "    print(\"reject null hypothesis\")\n",
    "else:\n",
    "    print(\"accept null hypothesis\")"
   ]
  },
  {
   "cell_type": "markdown",
   "id": "19543068",
   "metadata": {},
   "source": [
    "# General DQN Test on not Trained Door and SR Test on not Trained Door(Anomaly):"
   ]
  },
  {
   "cell_type": "code",
   "execution_count": 59,
   "id": "ba64867d",
   "metadata": {},
   "outputs": [],
   "source": [
    "dqn_anomaly1=df_dqn_anomaly.loc[df_dqn_anomaly['Test_Number'] == '1']\n",
    "dqn_anomaly2=df_dqn_anomaly.loc[df_dqn_anomaly['Test_Number'] == '2']\n",
    "dqn_anomaly3=df_dqn_anomaly.loc[df_dqn_anomaly['Test_Number'] == '3']\n",
    "dqn_anomaly4=df_dqn_anomaly.loc[df_dqn_anomaly['Test_Number'] == '4']\n",
    "dqn_anomaly5=df_dqn_anomaly.loc[df_dqn_anomaly['Test_Number'] == '5']"
   ]
  },
  {
   "cell_type": "code",
   "execution_count": 60,
   "id": "80c96cbb",
   "metadata": {},
   "outputs": [],
   "source": [
    "sr_anomaly1=df_sr_anomaly.loc[df_sr_anomaly['Test_Number'] == 1]\n",
    "sr_anomaly2=df_sr_anomaly.loc[df_sr_anomaly['Test_Number'] == 2]\n",
    "sr_anomaly3=df_sr_anomaly.loc[df_sr_anomaly['Test_Number'] == 3]\n",
    "sr_anomaly4=df_sr_anomaly.loc[df_sr_anomaly['Test_Number'] == 4]\n",
    "sr_anomaly5=df_sr_anomaly.loc[df_sr_anomaly['Test_Number'] == 5]"
   ]
  },
  {
   "cell_type": "code",
   "execution_count": 61,
   "id": "6b585234",
   "metadata": {},
   "outputs": [
    {
     "name": "stdout",
     "output_type": "stream",
     "text": [
      "-1.6641233348846436 -0.21379188418388362 -0.6224597322940826 0.0 0.012303905487060507\n"
     ]
    }
   ],
   "source": [
    "#Determine value parameter for z-test:\n",
    "value1_anomaly=np.mean(dqn_anomaly1[\"Scores\"])-np.mean(sr_anomaly1[\"Scores\"])\n",
    "value2_anomaly=np.mean(dqn_anomaly2[\"Scores\"])-np.mean(sr_anomaly2[\"Scores\"])\n",
    "value3_anomaly=np.mean(dqn_anomaly3[\"Scores\"])-np.mean(sr_anomaly3[\"Scores\"])\n",
    "value4_anomaly=np.mean(dqn_anomaly4[\"Scores\"])-np.mean(sr_anomaly4[\"Scores\"])\n",
    "value5_anomaly=np.mean(dqn_anomaly5[\"Scores\"])-np.mean(sr_anomaly5[\"Scores\"])\n",
    "print(value1_anomaly,value2_anomaly,value3_anomaly,value4_anomaly,value5_anomaly)"
   ]
  },
  {
   "cell_type": "code",
   "execution_count": 62,
   "id": "2c12a0f9",
   "metadata": {},
   "outputs": [
    {
     "name": "stdout",
     "output_type": "stream",
     "text": [
      "0.0017312229128186613\n",
      "reject null hypothesis\n"
     ]
    }
   ],
   "source": [
    "#mannwhitneyu test for test on trained door for Test Number 1:\n",
    "ztest ,pval1 = mannwhitneyu(dqn_anomaly1[\"Scores\"], y=sr_anomaly1[\"Scores\"])\n",
    "print(float(pval1))\n",
    "\n",
    "if pval1<0.05:\n",
    "    print(\"reject null hypothesis\")\n",
    "else:\n",
    "    print(\"accept null hypothesis\")"
   ]
  },
  {
   "cell_type": "code",
   "execution_count": 63,
   "id": "4cd4f43b",
   "metadata": {},
   "outputs": [
    {
     "name": "stdout",
     "output_type": "stream",
     "text": [
      "0.16354305932769242\n",
      "accept null hypothesis\n"
     ]
    }
   ],
   "source": [
    "#mannwhitneyu test for test on trained door for Test Number 2:\n",
    "ztest ,pval1 = mannwhitneyu(dqn_anomaly2[\"Scores\"], y=sr_anomaly2[\"Scores\"])\n",
    "print(float(pval1))\n",
    "\n",
    "if pval1<0.05:\n",
    "    print(\"reject null hypothesis\")\n",
    "else:\n",
    "    print(\"accept null hypothesis\")"
   ]
  },
  {
   "cell_type": "code",
   "execution_count": 64,
   "id": "daa824cf",
   "metadata": {},
   "outputs": [
    {
     "name": "stdout",
     "output_type": "stream",
     "text": [
      "0.0411131970226511\n",
      "reject null hypothesis\n"
     ]
    }
   ],
   "source": [
    "#mannwhitneyu test for test on trained door for Test Number 3:\n",
    "ztest ,pval1 = mannwhitneyu(dqn_anomaly3[\"Scores\"], y=sr_anomaly3[\"Scores\"])\n",
    "print(float(pval1))\n",
    "\n",
    "if pval1<0.05:\n",
    "    print(\"reject null hypothesis\")\n",
    "else:\n",
    "    print(\"accept null hypothesis\")"
   ]
  },
  {
   "cell_type": "code",
   "execution_count": 65,
   "id": "d284906c",
   "metadata": {},
   "outputs": [
    {
     "name": "stdout",
     "output_type": "stream",
     "text": [
      "0.0411131970226511\n",
      "reject null hypothesis\n"
     ]
    }
   ],
   "source": [
    "#mannwhitneyu test for test on trained door for Test Number 4:\n",
    "ztest ,pval1 = mannwhitneyu(dqn_anomaly3[\"Scores\"], y=sr_anomaly3[\"Scores\"])\n",
    "print(float(pval1))\n",
    "\n",
    "if pval1<0.05:\n",
    "    print(\"reject null hypothesis\")\n",
    "else:\n",
    "    print(\"accept null hypothesis\")"
   ]
  },
  {
   "cell_type": "code",
   "execution_count": 66,
   "id": "0ae796fa",
   "metadata": {},
   "outputs": [
    {
     "ename": "TypeError",
     "evalue": "ztest() got an unexpected keyword argument 'y'",
     "output_type": "error",
     "traceback": [
      "\u001b[0;31m---------------------------------------------------------------------------\u001b[0m",
      "\u001b[0;31mTypeError\u001b[0m                                 Traceback (most recent call last)",
      "\u001b[0;32m<ipython-input-66-2474311bcf36>\u001b[0m in \u001b[0;36m<module>\u001b[0;34m\u001b[0m\n\u001b[1;32m      1\u001b[0m \u001b[0;31m#mannwhitneyu test for test on trained door for Test Number 5:\u001b[0m\u001b[0;34m\u001b[0m\u001b[0;34m\u001b[0m\u001b[0m\n\u001b[0;32m----> 2\u001b[0;31m \u001b[0mztest\u001b[0m \u001b[0;34m,\u001b[0m\u001b[0mpval1\u001b[0m \u001b[0;34m=\u001b[0m \u001b[0mstests\u001b[0m\u001b[0;34m.\u001b[0m\u001b[0mztest\u001b[0m\u001b[0;34m(\u001b[0m\u001b[0mdqn_anomaly4\u001b[0m\u001b[0;34m[\u001b[0m\u001b[0;34m\"Scores\"\u001b[0m\u001b[0;34m]\u001b[0m\u001b[0;34m,\u001b[0m \u001b[0my\u001b[0m\u001b[0;34m=\u001b[0m\u001b[0msr_anomaly4\u001b[0m\u001b[0;34m[\u001b[0m\u001b[0;34m\"Scores\"\u001b[0m\u001b[0;34m]\u001b[0m\u001b[0;34m)\u001b[0m\u001b[0;34m\u001b[0m\u001b[0m\n\u001b[0m\u001b[1;32m      3\u001b[0m \u001b[0mprint\u001b[0m\u001b[0;34m(\u001b[0m\u001b[0mfloat\u001b[0m\u001b[0;34m(\u001b[0m\u001b[0mpval1\u001b[0m\u001b[0;34m)\u001b[0m\u001b[0;34m)\u001b[0m\u001b[0;34m\u001b[0m\u001b[0m\n\u001b[1;32m      4\u001b[0m \u001b[0;34m\u001b[0m\u001b[0m\n\u001b[1;32m      5\u001b[0m \u001b[0;32mif\u001b[0m \u001b[0mpval1\u001b[0m\u001b[0;34m<\u001b[0m\u001b[0;36m0.05\u001b[0m\u001b[0;34m:\u001b[0m\u001b[0;34m\u001b[0m\u001b[0m\n",
      "\u001b[0;31mTypeError\u001b[0m: ztest() got an unexpected keyword argument 'y'"
     ]
    }
   ],
   "source": [
    "#mannwhitneyu test for test on trained door for Test Number 5:\n",
    "ztest ,pval1 = stests.ztest(dqn_anomaly4[\"Scores\"], y=sr_anomaly4[\"Scores\"])\n",
    "print(float(pval1))\n",
    "\n",
    "if pval1<0.05:\n",
    "    print(\"reject null hypothesis\")\n",
    "else:\n",
    "    print(\"accept null hypothesis\")"
   ]
  },
  {
   "cell_type": "code",
   "execution_count": 67,
   "id": "ffd7281c",
   "metadata": {},
   "outputs": [
    {
     "name": "stdout",
     "output_type": "stream",
     "text": [
      "0.5\n",
      "accept null hypothesis\n"
     ]
    }
   ],
   "source": [
    "#mannwhitneyu test for test on trained door for Test Number 5:\n",
    "ztest ,pval1 = mannwhitneyu(dqn_anomaly5[\"Scores\"], y=sr_anomaly5[\"Scores\"])\n",
    "print(float(pval1))\n",
    "\n",
    "if pval1<0.05:\n",
    "    print(\"reject null hypothesis\")\n",
    "else:\n",
    "    print(\"accept null hypothesis\")"
   ]
  },
  {
   "cell_type": "markdown",
   "id": "047f2e03",
   "metadata": {},
   "source": [
    "# Wilcoxon signed-rank test For 1-3-5, 2-4:"
   ]
  },
  {
   "cell_type": "raw",
   "id": "0fd98cd1",
   "metadata": {},
   "source": [
    "Calculate the Wilcoxon signed-rank test.\n",
    "\n",
    "The Wilcoxon signed-rank test tests the null hypothesis that two related paired samples come from the same distribution. In particular, it tests whether the distribution of the differences x - y is symmetric about zero. It is a non-parametric version of the paired T-test."
   ]
  },
  {
   "cell_type": "code",
   "execution_count": 68,
   "id": "83ef7764",
   "metadata": {},
   "outputs": [],
   "source": [
    "from scipy.stats import wilcoxon"
   ]
  },
  {
   "cell_type": "code",
   "execution_count": 69,
   "id": "e706a628",
   "metadata": {},
   "outputs": [
    {
     "name": "stdout",
     "output_type": "stream",
     "text": [
      "0.049561396024289495\n",
      "reject null hypothesis\n"
     ]
    }
   ],
   "source": [
    "#wilcoxon test for test on trained door for Test Number 1:\n",
    "ztest ,pval1 = wilcoxon(dqn_test1[\"Scores\"], y=dqn_test3[\"Scores\"])\n",
    "print(float(pval1))\n",
    "\n",
    "if pval1<0.05:\n",
    "    print(\"reject null hypothesis\")\n",
    "else:\n",
    "    print(\"accept null hypothesis\")"
   ]
  },
  {
   "cell_type": "code",
   "execution_count": 70,
   "id": "a0b94592",
   "metadata": {},
   "outputs": [
    {
     "name": "stdout",
     "output_type": "stream",
     "text": [
      "2.1717159383830426e-05\n",
      "reject null hypothesis\n"
     ]
    }
   ],
   "source": [
    "#wilcoxon test for test on trained door for Test Number 1:\n",
    "ztest ,pval1 = wilcoxon(dqn_test3[\"Scores\"], y=dqn_test5[\"Scores\"])\n",
    "print(float(pval1))\n",
    "\n",
    "if pval1<0.05:\n",
    "    print(\"reject null hypothesis\")\n",
    "else:\n",
    "    print(\"accept null hypothesis\")"
   ]
  },
  {
   "cell_type": "code",
   "execution_count": 71,
   "id": "1fa4e74f",
   "metadata": {},
   "outputs": [
    {
     "name": "stdout",
     "output_type": "stream",
     "text": [
      "1.0212424084362753e-08\n",
      "reject null hypothesis\n"
     ]
    }
   ],
   "source": [
    "#wilcoxon test for test on trained door for Test Number 1:\n",
    "ztest ,pval1 = stests.ztest(dqn_test1[\"Scores\"], x2=dqn_test5[\"Scores\"])\n",
    "print(float(pval1))\n",
    "\n",
    "if pval1<0.05:\n",
    "    print(\"reject null hypothesis\")\n",
    "else:\n",
    "    print(\"accept null hypothesis\")"
   ]
  },
  {
   "cell_type": "code",
   "execution_count": 72,
   "id": "f84ecbed",
   "metadata": {},
   "outputs": [
    {
     "name": "stdout",
     "output_type": "stream",
     "text": [
      "0.0007175161647285474\n",
      "reject null hypothesis\n"
     ]
    }
   ],
   "source": [
    "#wilcoxon test for test on trained door for Test Number 1:\n",
    "ztest ,pval1 = wilcoxon(dqn_test2[\"Scores\"], y=dqn_test4[\"Scores\"])\n",
    "print(float(pval1))\n",
    "\n",
    "if pval1<0.05:\n",
    "    print(\"reject null hypothesis\")\n",
    "else:\n",
    "    print(\"accept null hypothesis\")"
   ]
  },
  {
   "cell_type": "code",
   "execution_count": 422,
   "id": "8f5af328",
   "metadata": {},
   "outputs": [
    {
     "name": "stdout",
     "output_type": "stream",
     "text": [
      "nan\n",
      "accept null hypothesis\n"
     ]
    },
    {
     "name": "stderr",
     "output_type": "stream",
     "text": [
      "/Users/umutekingezer/opt/anaconda3/envs/unity_rl/lib/python3.6/site-packages/scipy/stats/morestats.py:2388: UserWarning: Warning: sample size too small for normal approximation.\n",
      "  warnings.warn(\"Warning: sample size too small for normal approximation.\")\n",
      "/Users/umutekingezer/opt/anaconda3/envs/unity_rl/lib/python3.6/site-packages/scipy/stats/morestats.py:2413: RuntimeWarning: invalid value encountered in double_scalars\n",
      "  z = (T - mn - correction) / se\n"
     ]
    }
   ],
   "source": [
    "#wilcoxon test for test on trained door for Test Number 1:\n",
    "ztest ,pval1 = wilcoxon(dqn_anomaly1[\"Scores\"], y=dqn_anomaly3[\"Scores\"])\n",
    "print(float(pval1))\n",
    "\n",
    "if pval1<0.05:\n",
    "    print(\"reject null hypothesis\")\n",
    "else:\n",
    "    print(\"accept null hypothesis\")"
   ]
  },
  {
   "cell_type": "code",
   "execution_count": 423,
   "id": "1d3fba66",
   "metadata": {},
   "outputs": [
    {
     "name": "stdout",
     "output_type": "stream",
     "text": [
      "0.31731050786291415\n",
      "accept null hypothesis\n"
     ]
    }
   ],
   "source": [
    "#wilcoxon test for test on trained door for Test Number 1:\n",
    "ztest ,pval1 = wilcoxon(dqn_anomaly3[\"Scores\"], y=dqn_anomaly5[\"Scores\"])\n",
    "print(float(pval1))\n",
    "\n",
    "if pval1<0.05:\n",
    "    print(\"reject null hypothesis\")\n",
    "else:\n",
    "    print(\"accept null hypothesis\")"
   ]
  },
  {
   "cell_type": "code",
   "execution_count": 424,
   "id": "31824a21",
   "metadata": {},
   "outputs": [
    {
     "name": "stdout",
     "output_type": "stream",
     "text": [
      "0.31731050786291415\n",
      "accept null hypothesis\n"
     ]
    }
   ],
   "source": [
    "#wilcoxon test for test on trained door for Test Number 1:\n",
    "ztest ,pval1 = wilcoxon(dqn_anomaly1[\"Scores\"], y=dqn_anomaly5[\"Scores\"])\n",
    "print(float(pval1))\n",
    "\n",
    "if pval1<0.05:\n",
    "    print(\"reject null hypothesis\")\n",
    "else:\n",
    "    print(\"accept null hypothesis\")"
   ]
  },
  {
   "cell_type": "code",
   "execution_count": 425,
   "id": "d06980f9",
   "metadata": {},
   "outputs": [
    {
     "name": "stdout",
     "output_type": "stream",
     "text": [
      "nan\n",
      "accept null hypothesis\n"
     ]
    }
   ],
   "source": [
    "\n",
    "ztest ,pval1 = wilcoxon(dqn_anomaly2[\"Scores\"], y=dqn_anomaly4[\"Scores\"])\n",
    "print(float(pval1))\n",
    "\n",
    "if pval1<0.05:\n",
    "    print(\"reject null hypothesis\")\n",
    "else:\n",
    "    print(\"accept null hypothesis\")"
   ]
  },
  {
   "cell_type": "markdown",
   "id": "c0b7f811",
   "metadata": {},
   "source": [
    "# SR  wilcoxon test in group:"
   ]
  },
  {
   "cell_type": "code",
   "execution_count": 426,
   "id": "c9184e3f",
   "metadata": {},
   "outputs": [
    {
     "name": "stdout",
     "output_type": "stream",
     "text": [
      "0.0007327350149169877\n",
      "reject null hypothesis\n"
     ]
    }
   ],
   "source": [
    "\n",
    "ztest ,pval1 = wilcoxon(sr_test1[\"Scores\"], y=sr_test3[\"Scores\"])\n",
    "print(float(pval1))\n",
    "\n",
    "if pval1<0.05:\n",
    "    print(\"reject null hypothesis\")\n",
    "else:\n",
    "    print(\"accept null hypothesis\")"
   ]
  },
  {
   "cell_type": "code",
   "execution_count": 427,
   "id": "2193ee29",
   "metadata": {},
   "outputs": [
    {
     "name": "stdout",
     "output_type": "stream",
     "text": [
      "0.045991445829992116\n",
      "reject null hypothesis\n"
     ]
    }
   ],
   "source": [
    "#Two-sample-z test for test on trained door for Test Number 1:\n",
    "ztest ,pval1 = wilcoxon(sr_test3[\"Scores\"], y=sr_test5[\"Scores\"])\n",
    "print(float(pval1))\n",
    "\n",
    "if pval1<0.05:\n",
    "    print(\"reject null hypothesis\")\n",
    "else:\n",
    "    print(\"accept null hypothesis\")"
   ]
  },
  {
   "cell_type": "code",
   "execution_count": 428,
   "id": "4d33a0c4",
   "metadata": {},
   "outputs": [
    {
     "name": "stdout",
     "output_type": "stream",
     "text": [
      "0.776962319877063\n",
      "accept null hypothesis\n"
     ]
    }
   ],
   "source": [
    "#Two-sample-z test for test on trained door for Test Number 1:\n",
    "ztest ,pval1 = wilcoxon(sr_test1[\"Scores\"], y=sr_test5[\"Scores\"])\n",
    "print(float(pval1))\n",
    "\n",
    "if pval1<0.05:\n",
    "    print(\"reject null hypothesis\")\n",
    "else:\n",
    "    print(\"accept null hypothesis\")"
   ]
  },
  {
   "cell_type": "code",
   "execution_count": 429,
   "id": "34f4d894",
   "metadata": {},
   "outputs": [
    {
     "name": "stdout",
     "output_type": "stream",
     "text": [
      "2.912282871993605e-08\n",
      "reject null hypothesis\n"
     ]
    }
   ],
   "source": [
    "#Two-sample-z test for test on trained door for Test Number 1:\n",
    "ztest ,pval1 = wilcoxon(sr_test2[\"Scores\"], y=sr_test4[\"Scores\"])\n",
    "print(float(pval1))\n",
    "\n",
    "if pval1<0.05:\n",
    "    print(\"reject null hypothesis\")\n",
    "else:\n",
    "    print(\"accept null hypothesis\")"
   ]
  },
  {
   "cell_type": "code",
   "execution_count": 430,
   "id": "a12e76a1",
   "metadata": {},
   "outputs": [
    {
     "name": "stdout",
     "output_type": "stream",
     "text": [
      "0.1306650895957666\n",
      "accept null hypothesis\n"
     ]
    }
   ],
   "source": [
    "#Two-sample-z test for test on trained door for Test Number 1:\n",
    "ztest ,pval1 = wilcoxon(sr_anomaly1[\"Scores\"], y=sr_anomaly3[\"Scores\"])\n",
    "print(float(pval1))\n",
    "\n",
    "if pval1<0.05:\n",
    "    print(\"reject null hypothesis\")\n",
    "else:\n",
    "    print(\"accept null hypothesis\")"
   ]
  },
  {
   "cell_type": "code",
   "execution_count": 431,
   "id": "67b76b80",
   "metadata": {},
   "outputs": [
    {
     "name": "stdout",
     "output_type": "stream",
     "text": [
      "0.14412703481601533\n",
      "accept null hypothesis\n"
     ]
    }
   ],
   "source": [
    "#Two-sample-z test for test on trained door for Test Number 1:\n",
    "ztest ,pval1 = wilcoxon(sr_anomaly3[\"Scores\"], y=sr_anomaly5[\"Scores\"])\n",
    "print(float(pval1))\n",
    "\n",
    "if pval1<0.05:\n",
    "    print(\"reject null hypothesis\")\n",
    "else:\n",
    "    print(\"accept null hypothesis\")"
   ]
  },
  {
   "cell_type": "code",
   "execution_count": 432,
   "id": "1e6e0eec",
   "metadata": {},
   "outputs": [
    {
     "name": "stdout",
     "output_type": "stream",
     "text": [
      "0.020879263166351643\n",
      "reject null hypothesis\n"
     ]
    }
   ],
   "source": [
    "#Two-sample-z test for test on trained door for Test Number 1:\n",
    "ztest ,pval1 = wilcoxon(sr_anomaly1[\"Scores\"], y=sr_anomaly5[\"Scores\"])\n",
    "print(float(pval1))\n",
    "\n",
    "if pval1<0.05:\n",
    "    print(\"reject null hypothesis\")\n",
    "else:\n",
    "    print(\"accept null hypothesis\")"
   ]
  },
  {
   "cell_type": "code",
   "execution_count": 433,
   "id": "34081dcb",
   "metadata": {},
   "outputs": [
    {
     "name": "stdout",
     "output_type": "stream",
     "text": [
      "0.31731050786291415\n",
      "accept null hypothesis\n"
     ]
    }
   ],
   "source": [
    "#Two-sample-z test for test on trained door for Test Number 1:\n",
    "ztest ,pval1 = wilcoxon(sr_anomaly2[\"Scores\"], y=sr_anomaly4[\"Scores\"])\n",
    "print(float(pval1))\n",
    "\n",
    "if pval1<0.05:\n",
    "    print(\"reject null hypothesis\")\n",
    "else:\n",
    "    print(\"accept null hypothesis\")"
   ]
  },
  {
   "cell_type": "code",
   "execution_count": null,
   "id": "b2a7250d",
   "metadata": {},
   "outputs": [],
   "source": []
  },
  {
   "cell_type": "code",
   "execution_count": null,
   "id": "affc94f8",
   "metadata": {},
   "outputs": [],
   "source": []
  },
  {
   "cell_type": "code",
   "execution_count": null,
   "id": "14507494",
   "metadata": {},
   "outputs": [],
   "source": []
  },
  {
   "cell_type": "code",
   "execution_count": null,
   "id": "9ad0696e",
   "metadata": {},
   "outputs": [],
   "source": []
  },
  {
   "cell_type": "code",
   "execution_count": null,
   "id": "f4e76b83",
   "metadata": {},
   "outputs": [],
   "source": []
  },
  {
   "cell_type": "code",
   "execution_count": null,
   "id": "f8f8042c",
   "metadata": {},
   "outputs": [],
   "source": []
  },
  {
   "cell_type": "code",
   "execution_count": null,
   "id": "b7ea12ce",
   "metadata": {},
   "outputs": [],
   "source": []
  },
  {
   "cell_type": "code",
   "execution_count": null,
   "id": "63a010e7",
   "metadata": {},
   "outputs": [],
   "source": [
    "#Not relevant"
   ]
  },
  {
   "cell_type": "markdown",
   "id": "40b01baa",
   "metadata": {},
   "source": [
    "# Two-paired t-Test for in-group variability"
   ]
  },
  {
   "cell_type": "markdown",
   "id": "c4bfc765",
   "metadata": {},
   "source": [
    "If the groups have samples before and after affects such as 1.test then training then 2.test: We apply t-test on groups"
   ]
  },
  {
   "cell_type": "markdown",
   "id": "2ada10ad",
   "metadata": {},
   "source": [
    "Problem: Compare means between two groups that are paired.\n",
    "\n",
    "H0: There is no significant mean difference between the two sample mean  (x̄1= x̄2)\n",
    "H1: There is significant mean difference between the two sample mean       (x̄1!= x̄2)"
   ]
  },
  {
   "cell_type": "markdown",
   "id": "7b37b944",
   "metadata": {},
   "source": [
    "# DQN Test on Trained Doors:"
   ]
  },
  {
   "cell_type": "code",
   "execution_count": 311,
   "id": "4ef1f535",
   "metadata": {},
   "outputs": [
    {
     "name": "stdout",
     "output_type": "stream",
     "text": [
      "0.002018595552457953\n",
      "reject null hypothesis\n"
     ]
    }
   ],
   "source": [
    "pval1=stats.ttest_rel(dqn_test1[\"Scores\"], dqn_test3[\"Scores\"])[1]\n",
    "print(float(pval1))\n",
    "if pval1<0.05:\n",
    "    print(\"reject null hypothesis\")\n",
    "else:\n",
    "    print(\"accept null hypothesis\")"
   ]
  },
  {
   "cell_type": "code",
   "execution_count": 76,
   "id": "4ffda96a",
   "metadata": {},
   "outputs": [
    {
     "data": {
      "text/plain": [
       "9.958999824523925"
      ]
     },
     "execution_count": 76,
     "metadata": {},
     "output_type": "execute_result"
    }
   ],
   "source": [
    "np.mean(dqn_test2[\"Scores\"])"
   ]
  },
  {
   "cell_type": "code",
   "execution_count": 77,
   "id": "30c3e9fd",
   "metadata": {
    "scrolled": true
   },
   "outputs": [
    {
     "data": {
      "text/plain": [
       "7.767373077869415"
      ]
     },
     "execution_count": 77,
     "metadata": {},
     "output_type": "execute_result"
    }
   ],
   "source": [
    "np.mean(dqn_test4[\"Scores\"])"
   ]
  },
  {
   "cell_type": "code",
   "execution_count": 75,
   "id": "4edccb2a",
   "metadata": {},
   "outputs": [
    {
     "data": {
      "text/plain": [
       "5.567198357582092"
      ]
     },
     "execution_count": 75,
     "metadata": {},
     "output_type": "execute_result"
    }
   ],
   "source": [
    "np.mean(dqn_test5[\"Scores\"])"
   ]
  },
  {
   "cell_type": "code",
   "execution_count": 304,
   "id": "ae352ffd",
   "metadata": {},
   "outputs": [
    {
     "name": "stdout",
     "output_type": "stream",
     "text": [
      "6.079129617973402e-07\n",
      "reject null hypothesis\n"
     ]
    }
   ],
   "source": [
    "pval1=stats.ttest_rel(dqn_test3[\"Scores\"], dqn_test5[\"Scores\"])[1]\n",
    "print(float(pval1))\n",
    "if pval1<0.05:\n",
    "    print(\"reject null hypothesis\")\n",
    "else:\n",
    "    print(\"accept null hypothesis\")"
   ]
  },
  {
   "cell_type": "code",
   "execution_count": 305,
   "id": "77047417",
   "metadata": {},
   "outputs": [
    {
     "name": "stdout",
     "output_type": "stream",
     "text": [
      "6.084640132538112e-07\n",
      "reject null hypothesis\n"
     ]
    }
   ],
   "source": [
    "pval1=stats.ttest_rel(dqn_test1[\"Scores\"], dqn_test5[\"Scores\"])[1]\n",
    "print(float(pval1))\n",
    "if pval1<0.05:\n",
    "    print(\"reject null hypothesis\")\n",
    "else:\n",
    "    print(\"accept null hypothesis\")"
   ]
  },
  {
   "cell_type": "code",
   "execution_count": 312,
   "id": "7e247794",
   "metadata": {},
   "outputs": [
    {
     "name": "stdout",
     "output_type": "stream",
     "text": [
      "0.000996625378177609\n",
      "reject null hypothesis\n"
     ]
    }
   ],
   "source": [
    "#Now alternative doors:\n",
    "\n",
    "pval1=stats.ttest_rel(dqn_test2[\"Scores\"], dqn_test4[\"Scores\"])[1]\n",
    "print(float(pval1))\n",
    "if pval1<0.05:\n",
    "    print(\"reject null hypothesis\")\n",
    "else:\n",
    "    print(\"accept null hypothesis\")"
   ]
  },
  {
   "cell_type": "markdown",
   "id": "6732bf33",
   "metadata": {},
   "source": [
    "# DQN Test on not Trained Doors(Anomaly):"
   ]
  },
  {
   "cell_type": "code",
   "execution_count": 313,
   "id": "a9cfcafd",
   "metadata": {},
   "outputs": [
    {
     "name": "stdout",
     "output_type": "stream",
     "text": [
      "nan\n",
      "accept null hypothesis\n"
     ]
    }
   ],
   "source": [
    "pval1=stats.ttest_rel(dqn_anomaly1[\"Scores\"], dqn_anomaly3[\"Scores\"])[1]\n",
    "print(float(pval1))\n",
    "if pval1<0.05:\n",
    "    print(\"reject null hypothesis\")\n",
    "else:\n",
    "    print(\"accept null hypothesis\")"
   ]
  },
  {
   "cell_type": "code",
   "execution_count": 314,
   "id": "b3ac98f9",
   "metadata": {},
   "outputs": [
    {
     "name": "stdout",
     "output_type": "stream",
     "text": [
      "0.3222234059506757\n",
      "accept null hypothesis\n"
     ]
    }
   ],
   "source": [
    "pval1=stats.ttest_rel(dqn_anomaly3[\"Scores\"], dqn_anomaly5[\"Scores\"])[1]\n",
    "print(float(pval1))\n",
    "if pval1<0.05:\n",
    "    print(\"reject null hypothesis\")\n",
    "else:\n",
    "    print(\"accept null hypothesis\")"
   ]
  },
  {
   "cell_type": "code",
   "execution_count": 315,
   "id": "057f33fd",
   "metadata": {},
   "outputs": [
    {
     "name": "stdout",
     "output_type": "stream",
     "text": [
      "0.3222234059506757\n",
      "accept null hypothesis\n"
     ]
    }
   ],
   "source": [
    "pval1=stats.ttest_rel(dqn_anomaly1[\"Scores\"], dqn_anomaly5[\"Scores\"])[1]\n",
    "print(float(pval1))\n",
    "if pval1<0.05:\n",
    "    print(\"reject null hypothesis\")\n",
    "else:\n",
    "    print(\"accept null hypothesis\")"
   ]
  },
  {
   "cell_type": "markdown",
   "id": "a2867106",
   "metadata": {},
   "source": [
    "# SR Test on Trained Doors:"
   ]
  },
  {
   "cell_type": "code",
   "execution_count": 82,
   "id": "85814a6e",
   "metadata": {},
   "outputs": [
    {
     "data": {
      "text/plain": [
       "9.205972160100936"
      ]
     },
     "execution_count": 82,
     "metadata": {},
     "output_type": "execute_result"
    }
   ],
   "source": [
    "np.mean(sr_test4[\"Scores\"])"
   ]
  },
  {
   "cell_type": "code",
   "execution_count": 316,
   "id": "e7b1ab5c",
   "metadata": {},
   "outputs": [
    {
     "name": "stdout",
     "output_type": "stream",
     "text": [
      "0.008955382714180685\n",
      "reject null hypothesis\n"
     ]
    }
   ],
   "source": [
    "pval1=stats.ttest_rel(sr_test1[\"Scores\"], sr_test3[\"Scores\"])[1]\n",
    "print(float(pval1))\n",
    "if pval1<0.05:\n",
    "    print(\"reject null hypothesis\")\n",
    "else:\n",
    "    print(\"accept null hypothesis\")"
   ]
  },
  {
   "cell_type": "code",
   "execution_count": 83,
   "id": "03f58e51",
   "metadata": {},
   "outputs": [
    {
     "name": "stdout",
     "output_type": "stream",
     "text": [
      "0.6486117732466976\n",
      "accept null hypothesis\n"
     ]
    }
   ],
   "source": [
    "pval1=stats.ttest_rel(sr_test3[\"Scores\"], sr_test5[\"Scores\"])[1]\n",
    "print(float(pval1))\n",
    "if pval1<0.05:\n",
    "    print(\"reject null hypothesis\")\n",
    "else:\n",
    "    print(\"accept null hypothesis\")"
   ]
  },
  {
   "cell_type": "code",
   "execution_count": 84,
   "id": "7cc81c6e",
   "metadata": {},
   "outputs": [
    {
     "name": "stdout",
     "output_type": "stream",
     "text": [
      "0.00356599742518479\n",
      "reject null hypothesis\n"
     ]
    }
   ],
   "source": [
    "pval1=stats.ttest_rel(sr_test1[\"Scores\"], sr_test5[\"Scores\"])[1]\n",
    "print(float(pval1))\n",
    "if pval1<0.05:\n",
    "    print(\"reject null hypothesis\")\n",
    "else:\n",
    "    print(\"accept null hypothesis\")"
   ]
  },
  {
   "cell_type": "code",
   "execution_count": 321,
   "id": "ed103148",
   "metadata": {},
   "outputs": [
    {
     "name": "stdout",
     "output_type": "stream",
     "text": [
      "0.04592071562500429\n",
      "reject null hypothesis\n"
     ]
    }
   ],
   "source": [
    "#Now alternative doors:\n",
    "\n",
    "pval1=stats.ttest_rel(sr_test2[\"Scores\"], sr_test4[\"Scores\"])[1]\n",
    "print(float(pval1))\n",
    "if pval1<0.05:\n",
    "    print(\"reject null hypothesis\")\n",
    "else:\n",
    "    print(\"accept null hypothesis\")"
   ]
  },
  {
   "cell_type": "markdown",
   "id": "5d1bf582",
   "metadata": {},
   "source": [
    "# SR Test on not Trained Doors(Anomaly):"
   ]
  },
  {
   "cell_type": "code",
   "execution_count": 322,
   "id": "15eb3b7d",
   "metadata": {},
   "outputs": [
    {
     "name": "stdout",
     "output_type": "stream",
     "text": [
      "0.13228603651657228\n",
      "accept null hypothesis\n"
     ]
    }
   ],
   "source": [
    "pval1=stats.ttest_rel(sr_anomaly1[\"Scores\"], sr_anomaly3[\"Scores\"])[1]\n",
    "print(float(pval1))\n",
    "if pval1<0.05:\n",
    "    print(\"reject null hypothesis\")\n",
    "else:\n",
    "    print(\"accept null hypothesis\")"
   ]
  },
  {
   "cell_type": "code",
   "execution_count": 323,
   "id": "57c78d96",
   "metadata": {},
   "outputs": [
    {
     "name": "stdout",
     "output_type": "stream",
     "text": [
      "0.3149621403761995\n",
      "accept null hypothesis\n"
     ]
    }
   ],
   "source": [
    "pval1=stats.ttest_rel(sr_anomaly3[\"Scores\"], sr_anomaly5[\"Scores\"])[1]\n",
    "print(float(pval1))\n",
    "if pval1<0.05:\n",
    "    print(\"reject null hypothesis\")\n",
    "else:\n",
    "    print(\"accept null hypothesis\")"
   ]
  },
  {
   "cell_type": "code",
   "execution_count": 324,
   "id": "61d8cdfb",
   "metadata": {},
   "outputs": [
    {
     "name": "stdout",
     "output_type": "stream",
     "text": [
      "0.017385954699354413\n",
      "reject null hypothesis\n"
     ]
    }
   ],
   "source": [
    "pval1=stats.ttest_rel(sr_anomaly1[\"Scores\"], sr_anomaly5[\"Scores\"])[1]\n",
    "print(float(pval1))\n",
    "if pval1<0.05:\n",
    "    print(\"reject null hypothesis\")\n",
    "else:\n",
    "    print(\"accept null hypothesis\")"
   ]
  },
  {
   "cell_type": "code",
   "execution_count": 325,
   "id": "df256e6c",
   "metadata": {},
   "outputs": [
    {
     "name": "stdout",
     "output_type": "stream",
     "text": [
      "0.3222234059506757\n",
      "accept null hypothesis\n"
     ]
    }
   ],
   "source": [
    "pval1=stats.ttest_rel(sr_anomaly2[\"Scores\"], sr_anomaly4[\"Scores\"])[1]\n",
    "print(float(pval1))\n",
    "if pval1<0.05:\n",
    "    print(\"reject null hypothesis\")\n",
    "else:\n",
    "    print(\"accept null hypothesis\")"
   ]
  },
  {
   "cell_type": "code",
   "execution_count": null,
   "id": "c7cd8049",
   "metadata": {},
   "outputs": [],
   "source": []
  }
 ],
 "metadata": {
  "kernelspec": {
   "display_name": "unity_rl",
   "language": "python",
   "name": "unity_rl"
  },
  "language_info": {
   "codemirror_mode": {
    "name": "ipython",
    "version": 3
   },
   "file_extension": ".py",
   "mimetype": "text/x-python",
   "name": "python",
   "nbconvert_exporter": "python",
   "pygments_lexer": "ipython3",
   "version": "3.6.2"
  }
 },
 "nbformat": 4,
 "nbformat_minor": 5
}
